# Daniil Tsioma
import pandas

df = pandas.read_csv("/content/Hwy26Crashes2019_S23.csv")
df
crashes = df.loc[df['Record Type'] == 1]
crashes
# Assertion 1: all crashes occurred in the same year

# check the number of unique values for Crash Year
if crashes['Crash Year'].nunique() == 1:
  print("TRUE: All crashes have occurred in the same year.")
else:
  print("FALSE: Not all crashes have occurred in the same year.")
# Assertion 1: all crashes occurred on the same highway

# check the number of unique values for Highway Number
if crashes['Highway Number'].nunique() == 1:
  print("TRUE: All crashes have occurred on the same highway.")
else:
  print("FALSE: Not all crashes have occurred on the same highway.")
# Assertion #3: the total number of vehicles involved
# is greater or equal than the number of crashes.

# count Crashes
crashes_count = crashes.shape[0]

# count the number of Vehicle entries
vehicles = df.loc[df['Record Type'] == 2]
vehicles_count = vehicles.shape[0]

if crashes_count <= vehicles_count:
  print("TRUE: The number of vehicles involved"\
        " is greater or equal than the number of crashes.")
else:
  print("FALSE: The number of vehicles involved"\
        " is less than the number of crashes.")
# Assertion #3: the total number of participants involved
# is greater or equal than the number of vehicles.

# count the number of Vehicle entries
vehicles = df.loc[df['Record Type'] == 2]
vehicles_count = vehicles.shape[0]

# count the number of Participant entries
participants = df.loc[df['Record Type'] == 3]
participants_count = participants.shape[0]

if vehicles_count <= participants_count:
  print("TRUE: The number of participants involved"\
        " is greater or equal than the number of vehicles.")
else:
  print("FALSE: The number of participants involved"\
        " is less than the number of vehicles.")

print(f"Crashes: {crashes_count}")
print(f"Vehicles: {vehicles_count}")
print(f"Participants: {participants_count}")
# Assertion #5: more than a half of the crashes
# have exactly two vehicles involved

# group crashes by Total Vehicle Count,
# and calculate the number of occurences for each vehicle count
counts = crashes.groupby('Total Vehicle Count').size()
counts
if counts[2] > counts.sum() / 2:
  print("TRUE: more than a half of the crashes "\
        "have exactly two vehicles involved")
else:
  print("FALSE: less than a half of the crashes "\
        "have exactly two vehicles involved")
# Assertion #6: crashes are evenly distributed along milepoints

crashes.hist(column='Milepoint')
# Most crashes occur on miles 1 and 3
print("FALSE: crashes are not evenly distributed along milepoints. "\
      "Most crashes occur on miles 1 and 3.")
