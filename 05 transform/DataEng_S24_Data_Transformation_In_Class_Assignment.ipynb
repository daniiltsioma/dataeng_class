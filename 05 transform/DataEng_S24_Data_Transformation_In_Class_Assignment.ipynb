#import library
import pandas

# use small dataset
df = pandas.read_csv('/content/bc_trip259172515_230215.csv')
# display dataframe
df
# remove unnecessary columns and display
df1 = df.drop(columns=['EVENT_NO_STOP', 'GPS_SATELLITES', 'GPS_HDOP'])
df1
# alternative way of reading data
df2 = pandas.read_csv('/content/bc_trip259172515_230215.csv', usecols=['EVENT_NO_TRIP', 'OPD_DATE', 'VEHICLE_ID', 'METERS', 'ACT_TIME', 'GPS_LONGITUDE', 'GPS_LATITUDE'])
df2
from datetime import datetime, timedelta

# calculate a timestamp for each entry
def calculate_timestamp(row):
  opd = datetime.strptime(row['OPD_DATE'], '%d%b%Y:%H:%M:%S')
  return opd + timedelta(seconds=row['ACT_TIME'])

# add timestamp for each entry
df2['TIMESTAMP'] = df2.apply(lambda row: calculate_timestamp(row), axis=1)
df2
# drop unnecessary columns
df3 = df2.drop(columns=['OPD_DATE','ACT_TIME'])
df3
# meter difference
df3['dMETERS'] = df3['METERS'].diff()
df3
# timestamp difference
df3['dTIMESTAMP'] = df3['TIMESTAMP'].diff()
df3
# calculate speed from meter difference and timestamp difference
df3['SPEED'] = df3.apply(lambda row: (row['dMETERS'] / row['dTIMESTAMP'].total_seconds()), axis=1)
df3
# remove unnecessary columns
df4 = df3.drop(columns=['dMETERS', 'dTIMESTAMP'])
df4
df4.describe()
# read larger dataset
larger = pandas.read_csv('/content/bc_veh4223_230215.csv')
larger
# remove unnecessary columns
larger = larger.drop(columns=['GPS_SATELLITES', 'GPS_HDOP'])
larger
# calculate timestamp for each entry
larger['TIMESTAMP'] = larger.apply(lambda row: calculate_timestamp(row), axis=1)
larger
# remove unnecessary columns
larger = larger.drop(columns=['OPD_DATE', 'ACT_TIME'])
larger
# calculate speed for each entry
larger['dTRIP'] = larger['EVENT_NO_TRIP'].diff()

larger['dMETERS'] = larger['METERS'].diff()
larger['dTIMESTAMP'] = larger['TIMESTAMP'].diff()

larger['SPEED'] = larger.apply(
    lambda row: row['dMETERS'] / row['dTIMESTAMP'].total_seconds() if row['dTRIP'] == 0 else float('NaN'), axis=1)

larger
# analyze the dataset
larger['SPEED'].describe()
# find the row with largest speed
larger.sort_values(by=['SPEED'], ascending=False)
# read full data set

full = pandas.read_csv("/content/bc_230215.csv")
full
# remove unnecessary columns
full = full.drop(columns=['EVENT_NO_STOP', 'GPS_SATELLITES', 'GPS_HDOP'])
full
# calculate timestamp for each entry
full['TIMESTAMP'] = full.apply(lambda row: calculate_timestamp(row), axis=1)
full
# remove unnecessary columns
full = full.drop(columns=['OPD_DATE', 'ACT_TIME'])
full
