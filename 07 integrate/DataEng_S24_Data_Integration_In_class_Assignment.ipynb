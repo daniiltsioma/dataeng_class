import pandas
census_data = pandas.read_csv('/content/acs2017_census_tract_data.csv')
census_data[['TotalPop', 'Income', 'IncomePerCap']]
def calculate_people_in_poverty(row):
  return row['TotalPop']*row['Poverty']/100

census_data['TotalPopPoverty'] = census_data.apply(
    lambda row: calculate_people_in_poverty(row), axis=1)

census_data['TotalIncome'] = census_data.apply(
    lambda row: (row['TotalPop'] * row['IncomePerCap']), axis=1
)

census_data[['TotalPop', 'Poverty', 'TotalPopPoverty', 'TotalIncome', 'IncomePerCap']]
County_info = census_data.groupby(['County', 'State']).agg({
    'TotalPop': 'sum',
    'TotalPopPoverty': 'sum',
    'TotalIncome': 'sum',
    })
County_info.reset_index(inplace=True)
County_info['Poverty'] = County_info.apply(
    lambda row: (row['TotalPopPoverty'] / row['TotalPop']*100), axis=1)
County_info['IncomePerCap'] = County_info.apply(
    lambda row: (row['TotalIncome'] / row['TotalPop']), axis=1)
County_info
County_info.columns
County_info.loc[
    ((County_info['County'] == "Loudoun County") & (County_info['State'] == 'Virginia')) |
    ((County_info['County'] == "Washington County") & (County_info['State'] == 'Oregon')) |
    ((County_info['County'] == "Harlan County") & (County_info['State'] == 'Kentucky')) |
    ((County_info['County'] == "Malheur County") & (County_info['State'] == 'Oregon'))

    ]
County_info.sort_values(by='TotalPop')
covid_data = pandas.read_csv('/content/COVID_county_data.csv')
covid_data
from datetime import datetime

def get_month(row):
  dt = datetime.strptime(row['date'], "%Y-%m-%d")
  return dt.month

def get_year(row):
  dt = datetime.strptime(row['date'], "%Y-%m-%d")
  return dt.year

covid_data['Month'] = covid_data.apply(lambda row: get_month(row), axis=1)
covid_data['Year'] = covid_data.apply(lambda row: get_year(row), axis=1)

covid_data
covid_data.loc[covid_data['county'] == 'Abbeville']
Covid_monthly = covid_data.groupby(
    by=['county', 'state', 'Month', 'Year']).agg({
    'cases': 'max',
    'deaths': 'max'
})

Covid_monthly.reset_index(inplace=True)

Covid_monthly
Covid_monthly.loc[Covid_monthly['county'] == 'Malheur']
County_info['County'] = County_info['County'].str.replace(' County', '')
County_info
Covid_monthly = Covid_monthly.rename(columns={'county': 'County', 'state': 'State'})
Covid_monthly
Covid_summary = pandas.merge(County_info, Covid_monthly, on=['County', 'State'])

Covid_summary.reset_index(inplace=True)
Covid_summary
Covid_summary = Covid_summary.groupby(by=['County', 'State', 'Poverty', 'TotalPop', "IncomePerCap"]).agg({
    'cases': 'max',
    'deaths': 'max',
})
Covid_summary.reset_index(inplace=True)
Covid_summary['TotalCasesPer100K'] = Covid_summary.apply(lambda row: row['cases'] / (row['TotalPop'] / 100000), axis=1)
Covid_summary
Covid_summary.loc[
    ((Covid_summary['County'] == "Loudoun") & (Covid_summary['State'] == 'Virginia')) |
    ((Covid_summary['County'] == "Washington") & (Covid_summary['State'] == 'Oregon')) |
    ((Covid_summary['County'] == "Harlan") & (Covid_summary['State'] == 'Kentucky')) |
    ((Covid_summary['County'] == "Malheur") & (Covid_summary['State'] == 'Oregon'))
    ]
Covid_summary["TotalCasesPer100K"].corr(Covid_summary["Poverty"])
# For Oregon Counties only: correlation between % poverty and COVID cases
Oregon_counties = Covid_summary.loc[Covid_summary['State'] == 'Oregon']
Oregon_counties['Poverty'].corr(Oregon_counties['cases'])
# For all counties: correlation between population and COVID cases
Covid_summary['TotalPop'].corr(Covid_summary['cases'])
# For Oregon counties only: correlation between PerCapitaIncome and COVID deaths
Oregon_counties['IncomePerCap'].corr(Oregon_counties['deaths'])
# For all USA counties: correlation between PerCapitaIncome and COVID cases
Covid_summary['IncomePerCap'].corr(Covid_summary['cases'])
# For Oregon Counties only: correlation between % poverty and COVID deaths
Oregon_counties['Poverty'].corr(Oregon_counties['deaths'])
# For all USA counties: correlation between % poverty and COVID deaths
Covid_summary['Poverty'].corr(Covid_summary['deaths'])
# scatterplot
Covid_summary.plot.scatter('TotalPop', 'cases')
